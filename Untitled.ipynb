{
 "cells": [
  {
   "cell_type": "code",
   "execution_count": 10,
   "id": "11627489",
   "metadata": {},
   "outputs": [
    {
     "name": "stdout",
     "output_type": "stream",
     "text": [
      "['__doc__', '__file__', '__loader__', '__name__', '__package__', '__path__', '__spec__']\n",
      "['__call__', '__class__', '__delattr__', '__dir__', '__doc__', '__eq__', '__format__', '__ge__', '__getattribute__', '__gt__', '__hash__', '__init__', '__init_subclass__', '__le__', '__lt__', '__name__', '__ne__', '__new__', '__objclass__', '__qualname__', '__reduce__', '__reduce_ex__', '__repr__', '__self__', '__setattr__', '__sizeof__', '__str__', '__subclasshook__', '__text_signature__']\n",
      "<bound method _NamespacePath.__contains__ of _NamespacePath(['/Users/naledikekana/BankCollapse-SVB-and-First-Republic-Bank/extract', '/Users/naledikekana/BankCollapse-SVB-and-First-Republic-Bank/extract'])>\n"
     ]
    }
   ],
   "source": [
    "import extract\n",
    "\n",
    "print(dir(extract))\n",
    "print(dir(extract.__package__.__contains__))\n",
    "print((extract.__path__.__contains__))"
   ]
  }
 ],
 "metadata": {
  "kernelspec": {
   "display_name": "Python 3 (ipykernel)",
   "language": "python",
   "name": "python3"
  },
  "language_info": {
   "codemirror_mode": {
    "name": "ipython",
    "version": 3
   },
   "file_extension": ".py",
   "mimetype": "text/x-python",
   "name": "python",
   "nbconvert_exporter": "python",
   "pygments_lexer": "ipython3",
   "version": "3.10.6"
  }
 },
 "nbformat": 4,
 "nbformat_minor": 5
}
